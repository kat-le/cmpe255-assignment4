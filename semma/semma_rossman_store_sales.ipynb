{
  "nbformat": 4,
  "nbformat_minor": 0,
  "metadata": {
    "colab": {
      "provenance": [],
      "authorship_tag": "ABX9TyOaG1OUmHm2fy85ZpIvy2FX",
      "include_colab_link": true
    },
    "kernelspec": {
      "name": "python3",
      "display_name": "Python 3"
    },
    "language_info": {
      "name": "python"
    }
  },
  "cells": [
    {
      "cell_type": "markdown",
      "metadata": {
        "id": "view-in-github",
        "colab_type": "text"
      },
      "source": [
        "<a href=\"https://colab.research.google.com/github/kat-le/cmpe255-assignment4/blob/main/semma_rossman_store_sales.ipynb\" target=\"_parent\"><img src=\"https://colab.research.google.com/assets/colab-badge.svg\" alt=\"Open In Colab\"/></a>"
      ]
    },
    {
      "cell_type": "markdown",
      "source": [
        "# SEMMA on Kaggle’s Rossmann Store Sales\n",
        "\n",
        "**Goal:** Forecast daily store Sales so you can plan staffing, inventory, and promotions.\n",
        "\n",
        "## SEMMA framing\n",
        "\n",
        "**Sample** — load/join train.csv + store.csv, downsample stores/dates, and make a time-aware train/validation split.\n",
        "\n",
        "**Explore** — quick distributions/plots (month, day-of-week, promos) to see signal and gaps.\n",
        "\n",
        "**Modify** — engineer features (date parts, Promo2Active, CompMonths, distances), clean missing values, log-transform the target.\n",
        "\n",
        "**Model** — one-hot + LightGBM (or RandomForest fallback) to learn non-linear effects.\n",
        "\n",
        "**Assess** — MAE/RMSE/RMSPE on a hold-out window, residual plot, feature importance; then refit on all data and write a Kaggle-ready submission.csv."
      ],
      "metadata": {
        "id": "Nj5o1LlN3hGY"
      }
    },
    {
      "cell_type": "code",
      "execution_count": null,
      "metadata": {
        "colab": {
          "base_uri": "https://localhost:8080/"
        },
        "id": "6vEAn3SawBIu",
        "outputId": "265188ac-a55f-4e3b-95d5-6b90c3e29b97"
      },
      "outputs": [
        {
          "output_type": "stream",
          "name": "stdout",
          "text": [
            "✅ Environment ready\n"
          ]
        }
      ],
      "source": [
        "# Small helpers and a consistent RNG seed\n",
        "import numpy as np, pandas as pd, matplotlib.pyplot as plt, os, math, warnings, random\n",
        "warnings.filterwarnings(\"ignore\")\n",
        "\n",
        "SEED = 42\n",
        "def set_seed(s=SEED):\n",
        "    np.random.seed(s); random.seed(s)\n",
        "\n",
        "def ok(msg=\"OK\"): print(f\"✅ {msg}\")\n",
        "def expect(cond, msg=\"Check failed\"):\n",
        "    assert bool(cond), f\"❌ {msg}\"; return True\n",
        "\n",
        "set_seed()\n",
        "ok(\"Environment ready\")\n"
      ]
    },
    {
      "cell_type": "markdown",
      "source": [
        "## Imports (+ LightGBM detection)\n",
        "\n",
        "* Imports LightGBM if available; otherwise you’ll use RandomForest.\n",
        "  - Tree models handle non-linearities and interactions (promo × day × store type) much better than linear baselines.\n",
        "* Pulls sklearn transformers/metrics."
      ],
      "metadata": {
        "id": "v8V4mRMr3_F6"
      }
    },
    {
      "cell_type": "code",
      "source": [
        "# If LightGBM isn't available, this will still run using RandomForest\n",
        "try:\n",
        "    import lightgbm as lgb\n",
        "    from lightgbm import LGBMRegressor\n",
        "    HAS_LGBM = True\n",
        "except Exception:\n",
        "    HAS_LGBM = False\n",
        "\n",
        "from sklearn.preprocessing import OneHotEncoder\n",
        "from sklearn.compose import ColumnTransformer\n",
        "from sklearn.pipeline import Pipeline\n",
        "from sklearn.metrics import mean_absolute_error, mean_squared_error\n",
        "from sklearn.ensemble import RandomForestRegressor\n",
        "ok(f\"Imports done | LightGBM={HAS_LGBM}\")"
      ],
      "metadata": {
        "colab": {
          "base_uri": "https://localhost:8080/"
        },
        "id": "7QzUwInQ7TH1",
        "outputId": "4397867a-dbab-4847-b00e-914c1e54e039"
      },
      "execution_count": null,
      "outputs": [
        {
          "output_type": "stream",
          "name": "stdout",
          "text": [
            "✅ Imports done | LightGBM=True\n"
          ]
        }
      ]
    },
    {
      "cell_type": "markdown",
      "source": [
        "## SAMPLE\n",
        "\n",
        "Load & integrate train/test with store"
      ],
      "metadata": {
        "id": "cHXzKcv91uS2"
      }
    },
    {
      "cell_type": "markdown",
      "source": [
        "* Reads CSVs with Date parsed.\n",
        "* Normalizes some columns (StateHoliday to strings, fills Open in test).\n",
        "* Joins store.csv to both train/test to add metadata (distance, type, assortment, competition, promo2 info).\n",
        "  - Integration is required: most predictive signal (competition, Promo2) lives in store.csv."
      ],
      "metadata": {
        "id": "RRfq7iGc5NPr"
      }
    },
    {
      "cell_type": "code",
      "source": [
        "train = pd.read_csv(\"train.csv\", parse_dates=[\"Date\"])\n",
        "test  = pd.read_csv(\"test.csv\",  parse_dates=[\"Date\"])\n",
        "store = pd.read_csv(\"store.csv\")\n",
        "print(\"Train:\", train.shape)\n",
        "print(\"Test:\", test.shape)\n",
        "print(\"Store:\", store.shape)"
      ],
      "metadata": {
        "colab": {
          "base_uri": "https://localhost:8080/"
        },
        "id": "2WkzN7v15lyg",
        "outputId": "5635dd36-d419-4222-96a6-8160b9fae7ba"
      },
      "execution_count": null,
      "outputs": [
        {
          "output_type": "stream",
          "name": "stdout",
          "text": [
            "Train: (1017209, 9)\n",
            "Test: (41088, 8)\n",
            "Store: (1115, 10)\n"
          ]
        }
      ]
    },
    {
      "cell_type": "code",
      "source": [
        "# Standardize dtypes / strings\n",
        "for df in (train, test):\n",
        "    df[\"StateHoliday\"] = df[\"StateHoliday\"].astype(str)\n",
        "    df[\"Open\"] = df[\"Open\"].fillna(1).astype(int)\n",
        "    df[\"SchoolHoliday\"] = df[\"SchoolHoliday\"].astype(int)\n",
        "    df[\"Promo\"] = df[\"Promo\"].astype(int)\n",
        "\n",
        "# Merge store info\n",
        "train = train.merge(store, on=\"Store\", how=\"left\")\n",
        "test  = test.merge(store, on=\"Store\",  how=\"left\")\n",
        "\n",
        "print(train.shape)\n",
        "print(test.shape)"
      ],
      "metadata": {
        "colab": {
          "base_uri": "https://localhost:8080/"
        },
        "id": "01emCjHF7el1",
        "outputId": "858aba2b-d699-47cb-c975-e2c6efada863"
      },
      "execution_count": null,
      "outputs": [
        {
          "output_type": "stream",
          "name": "stdout",
          "text": [
            "(1017209, 18)\n",
            "(41088, 17)\n"
          ]
        }
      ]
    },
    {
      "cell_type": "markdown",
      "source": [
        "Optional downsample by stores / dates for fast iteration.\n",
        "\n",
        "* Limits to N stores or ends at a cut-off date.\n",
        "\n",
        "* Drops closed days in training (Rossmann policy: sales are 0 if Open=0)."
      ],
      "metadata": {
        "id": "2LyaHjB615a2"
      }
    },
    {
      "cell_type": "code",
      "source": [
        "N_STORES = None\n",
        "END_DATE = None\n",
        "\n",
        "df_tr = train.copy()\n",
        "df_te = test.copy()\n",
        "\n",
        "if N_STORES:\n",
        "    top_stores = (df_tr[\"Store\"].value_counts()\n",
        "                  .sort_values(ascending=False).head(N_STORES).index)\n",
        "    df_tr = df_tr[df_tr[\"Store\"].isin(top_stores)]\n",
        "    df_te = df_te[df_te[\"Store\"].isin(top_stores)]\n",
        "\n",
        "if END_DATE:\n",
        "    df_tr = df_tr[df_tr[\"Date\"] <= pd.to_datetime(END_DATE)]\n",
        "    df_te = df_te[df_te[\"Date\"] <= pd.to_datetime(END_DATE)]\n",
        "\n",
        "df_tr = df_tr[df_tr[\"Open\"] == 1]\n",
        "\n",
        "print(\"Train:\", df_tr.shape)\n",
        "print(\"Test:\", df_te.shape)"
      ],
      "metadata": {
        "colab": {
          "base_uri": "https://localhost:8080/"
        },
        "id": "eCIfUL6xBe36",
        "outputId": "f2581864-86db-4cd8-9cf8-0cc04cb8938b"
      },
      "execution_count": null,
      "outputs": [
        {
          "output_type": "stream",
          "name": "stdout",
          "text": [
            "Train: (844392, 18)\n",
            "Test: (41088, 17)\n"
          ]
        }
      ]
    },
    {
      "cell_type": "markdown",
      "source": [
        "## Explore\n",
        "\n",
        "Quick univariate/multivariate checks.\n",
        "\n",
        "Plots:\n",
        "\n",
        "* Sales histogram (skewed right; later we log-transform).\n",
        "\n",
        "* Average sales by Month (seasonality).\n",
        "\n",
        "* Average sales by Promo (uplift from promotions).\n",
        "\n",
        "* Average sales by Day-of-Week (weekly pattern)."
      ],
      "metadata": {
        "id": "3_OnalzY2Ahe"
      }
    },
    {
      "cell_type": "code",
      "source": [
        "ax = df_tr[\"Sales\"].plot(kind=\"hist\", bins=50, title=\"Sales distribution (train)\");\n",
        "ax.set_xlabel(\"Sales\"); plt.show()"
      ],
      "metadata": {
        "colab": {
          "base_uri": "https://localhost:8080/",
          "height": 472
        },
        "id": "zugcSxFsBsyk",
        "outputId": "aaafcdb8-f429-4f38-f149-173d0eae1b13"
      },
      "execution_count": null,
      "outputs": [
        {
          "output_type": "display_data",
          "data": {
            "text/plain": [
              "<Figure size 640x480 with 1 Axes>"
            ],
            "image/png": "[encoded data removed]"
          },
          "metadata": {}
        }
      ]
    },
    {
      "cell_type": "code",
      "source": [
        "by_month = df_tr.assign(Month=df_tr[\"Date\"].dt.month).groupby(\"Month\")[\"Sales\"].mean()\n",
        "by_month.plot(title=\"Average Sales by Month\"); plt.ylabel(\"Avg Sales\"); plt.show()"
      ],
      "metadata": {
        "colab": {
          "base_uri": "https://localhost:8080/",
          "height": 472
        },
        "id": "BdBn-1ZDvs--",
        "outputId": "2b8b79cd-362f-420c-c9de-fd0da15d2dfc"
      },
      "execution_count": null,
      "outputs": [
        {
          "output_type": "display_data",
          "data": {
            "text/plain": [
              "<Figure size 640x480 with 1 Axes>"
            ],
            "image/png": "[encoded data removed]"
          },
          "metadata": {}
        }
      ]
    },
    {
      "cell_type": "code",
      "source": [
        "by_promo = df_tr.groupby(\"Promo\")[\"Sales\"].mean()\n",
        "by_promo.plot(kind=\"bar\", title=\"Average Sales by Promo flag\"); plt.ylabel(\"Avg Sales\"); plt.show()"
      ],
      "metadata": {
        "colab": {
          "base_uri": "https://localhost:8080/",
          "height": 467
        },
        "id": "EjuyqIdfvyOq",
        "outputId": "f6e40b91-ebb4-44b2-a6af-727f6c2ef222"
      },
      "execution_count": null,
      "outputs": [
        {
          "output_type": "display_data",
          "data": {
            "text/plain": [
              "<Figure size 640x480 with 1 Axes>"
            ],
            "image/png": "[encoded data removed]"
          },
          "metadata": {}
        }
      ]
    },
    {
      "cell_type": "code",
      "source": [
        "by_dow = df_tr.assign(DayOfWeek=df_tr[\"Date\"].dt.dayofweek)\\\n",
        "              .groupby(\"DayOfWeek\")[\"Sales\"].mean()\n",
        "by_dow.plot(title=\"Average Sales by Day Of Week (0=Mon)\"); plt.ylabel(\"Avg Sales\"); plt.show()"
      ],
      "metadata": {
        "colab": {
          "base_uri": "https://localhost:8080/",
          "height": 472
        },
        "id": "_2gqMhpHv1Z5",
        "outputId": "559bee89-d26d-45f4-c4ec-32b666eb1516"
      },
      "execution_count": null,
      "outputs": [
        {
          "output_type": "display_data",
          "data": {
            "text/plain": [
              "<Figure size 640x480 with 1 Axes>"
            ],
            "image/png": "[encoded data removed]"
          },
          "metadata": {}
        }
      ]
    },
    {
      "cell_type": "markdown",
      "source": [
        "## Modify\n",
        "\n",
        "Feature engineering (date parts, Promo2 active, competition age)\n",
        "\n",
        "* Adds date parts: Year/Month/Week/Day, DoW, IsWeekend.\n",
        "* Builds CompMonths = months since competitor opened (bounded at 0).\n",
        "* Builds Promo2Active flag based on start week/year and monthly intervals.\n",
        "* Fills CompetitionDistance (median) and cleans StateHoliday labels.\n",
        "* Creates Sales_log = log1p(Sales) for a stabler learning target.\n",
        "* Defines the feature lists:\n",
        "  - CATS (categoricals to one-hot) e.g., StoreType, Assortment, StateHoliday, Promo, Promo2Active, DayOfWeek.\n",
        "  - NUMS (numerics pass-through) e.g., CompetitionDistance, CompMonths, Year/Month/Week/Day, IsWeekend."
      ],
      "metadata": {
        "id": "P3H781ao2Lht"
      }
    },
    {
      "cell_type": "code",
      "source": [
        "# Helpers to compute Promo2 active by month names\n",
        "MONTH_NAME = {1:\"Jan\",2:\"Feb\",3:\"Mar\",4:\"Apr\",5:\"May\",6:\"Jun\",7:\"Jul\",8:\"Aug\",9:\"Sep\",10:\"Oct\",11:\"Nov\",12:\"Dec\"}\n",
        "def promo2_active(row_date, promo2, since_year, since_week, interval):\n",
        "    if promo2 != 1 or pd.isna(since_year) or pd.isna(since_week) or pd.isna(interval):\n",
        "        return 0\n",
        "    # promo2 start date (approximate first day of ISO week)\n",
        "    try:\n",
        "        start = pd.to_datetime(f\"{int(since_year)}-W{int(since_week):02d}-1\", format=\"%G-W%V-%u\", errors=\"coerce\")\n",
        "    except Exception:\n",
        "        start = pd.NaT\n",
        "    if pd.isna(start) or row_date < start:\n",
        "        return 0\n",
        "    months = [m.strip() for m in str(interval).split(\",\")]\n",
        "    return int(MONTH_NAME[row_date.month] in months)\n",
        "\n",
        "def build_features(df):\n",
        "    d = df.copy()\n",
        "    # Date parts\n",
        "    d[\"Year\"]  = d[\"Date\"].dt.year\n",
        "    d[\"Month\"] = d[\"Date\"].dt.month\n",
        "    d[\"Week\"]  = d[\"Date\"].dt.isocalendar().week.astype(int)\n",
        "    d[\"Day\"]   = d[\"Date\"].dt.day\n",
        "    d[\"DoW\"]   = d[\"Date\"].dt.dayofweek\n",
        "    d[\"IsWeekend\"] = (d[\"DoW\"]>=5).astype(int)\n",
        "\n",
        "    # Competition age in months\n",
        "    comp_year  = d[\"CompetitionOpenSinceYear\"].fillna(0).astype(int)\n",
        "    comp_month = d[\"CompetitionOpenSinceMonth\"].fillna(0).astype(int).clip(1,12)\n",
        "    comp_date = pd.to_datetime(dict(year=comp_year, month=comp_month, day=15), errors=\"coerce\")\n",
        "    d[\"CompMonths\"] = ((d[\"Date\"].dt.year - comp_date.dt.year)*12 + (d[\"Date\"].dt.month - comp_date.dt.month)).clip(lower=0).fillna(0).astype(int)\n",
        "\n",
        "    # Promo2 active flag\n",
        "    d[\"Promo2Active\"] = [\n",
        "        promo2_active(dt, p2, y, w, inter)\n",
        "        for dt,p2,y,w,inter in zip(d[\"Date\"], d[\"Promo2\"].fillna(0), d[\"Promo2SinceYear\"], d[\"Promo2SinceWeek\"], d[\"PromoInterval\"])\n",
        "    ]\n",
        "\n",
        "    # Clean/transform selected columns\n",
        "    d[\"CompetitionDistance\"] = d[\"CompetitionDistance\"].fillna(d[\"CompetitionDistance\"].median())\n",
        "    d[\"StateHoliday\"] = d[\"StateHoliday\"].replace({\"0\":\"None\",\"a\":\"Public\",\"b\":\"Easter\",\"c\":\"Christmas\"})  # human labels\n",
        "\n",
        "    # Target transform (log1p improves stability)\n",
        "    if \"Sales\" in d.columns:\n",
        "        d[\"Sales_log\"] = np.log1p(d[\"Sales\"])\n",
        "\n",
        "    return d\n",
        "\n",
        "train_fe = build_features(df_tr)\n",
        "test_fe  = build_features(df_te)\n",
        "\n",
        "# Features & target\n",
        "TARGET = \"Sales_log\"\n",
        "CATS = [\"Store\",\"StoreType\",\"Assortment\",\"StateHoliday\",\"Promo\",\"Promo2\",\"Promo2Active\",\"SchoolHoliday\",\"DayOfWeek\"] \\\n",
        "       if \"DayOfWeek\" in train.columns else [\"Store\",\"StoreType\",\"Assortment\",\"StateHoliday\",\"Promo\",\"Promo2\",\"Promo2Active\",\"SchoolHoliday\"]\n",
        "NUMS = [\"CompetitionDistance\",\"CompMonths\",\"Year\",\"Month\",\"Week\",\"Day\",\"IsWeekend\"]\n",
        "\n",
        "# X/y and test matrix\n",
        "X = train_fe[CATS + NUMS].copy()\n",
        "y = train_fe[TARGET].astype(float).copy()\n",
        "X_test_final = test_fe[CATS + NUMS].copy()\n",
        "\n",
        "print(\"Shapes — X:\", X.shape, \"| y:\", y.shape, \"| X_test:\", X_test_final.shape)\n",
        "ok(\"Feature engineering complete\")"
      ],
      "metadata": {
        "colab": {
          "base_uri": "https://localhost:8080/"
        },
        "id": "dG1WHFTMB3aH",
        "outputId": "bdc4bcaf-7469-4aa9-a010-ef9425f2a9c4"
      },
      "execution_count": null,
      "outputs": [
        {
          "output_type": "stream",
          "name": "stdout",
          "text": [
            "Shapes — X: (844392, 16) | y: (844392,) | X_test: (41088, 16)\n",
            "✅ Feature engineering complete\n"
          ]
        }
      ]
    },
    {
      "cell_type": "code",
      "source": [
        "train_fe.head()"
      ],
      "metadata": {
        "colab": {
          "base_uri": "https://localhost:8080/",
          "height": 256
        },
        "id": "WVO_tpl2AYSK",
        "outputId": "0f63dad1-e447-48d0-d116-840899f939c6"
      },
      "execution_count": null,
      "outputs": [
        {
          "output_type": "execute_result",
          "data": {
            "text/plain": [
              "   Store  DayOfWeek       Date  Sales  Customers  Open  Promo StateHoliday  \\\n",
              "0      1          5 2015-07-31   5263        555     1      1         None   \n",
              "1      2          5 2015-07-31   6064        625     1      1         None   \n",
              "2      3          5 2015-07-31   8314        821     1      1         None   \n",
              "3      4          5 2015-07-31  13995       1498     1      1         None   \n",
              "4      5          5 2015-07-31   4822        559     1      1         None   \n",
              "\n",
              "   SchoolHoliday StoreType  ...    PromoInterval  Year  Month  Week  Day  DoW  \\\n",
              "0              1         c  ...              NaN  2015      7    31   31    4   \n",
              "1              1         a  ...  Jan,Apr,Jul,Oct  2015      7    31   31    4   \n",
              "2              1         a  ...  Jan,Apr,Jul,Oct  2015      7    31   31    4   \n",
              "3              1         c  ...              NaN  2015      7    31   31    4   \n",
              "4              1         a  ...              NaN  2015      7    31   31    4   \n",
              "\n",
              "   IsWeekend CompMonths  Promo2Active  Sales_log  \n",
              "0          0         82             0   8.568646  \n",
              "1          0         92             1   8.710290  \n",
              "2          0        103             1   9.025816  \n",
              "3          0         70             0   9.546527  \n",
              "4          0          3             0   8.481151  \n",
              "\n",
              "[5 rows x 27 columns]"
            ],
            "text/html": [
              "\n",
              "  <div id=\"df-b1cc5f0f-2495-41e2-9b00-13dcb91cc63d\" class=\"colab-df-container\">\n",
              "    <div>\n",
              "<style scoped>\n",
              "    .dataframe tbody tr th:only-of-type {\n",
              "        vertical-align: middle;\n",
              "    }\n",
              "\n",
              "    .dataframe tbody tr th {\n",
              "        vertical-align: top;\n",
              "    }\n",
              "\n",
              "    .dataframe thead th {\n",
              "        text-align: right;\n",
              "    }\n",
              "</style>\n",
              "<table border=\"1\" class=\"dataframe\">\n",
              "  <thead>\n",
              "    <tr style=\"text-align: right;\">\n",
              "      <th></th>\n",
              "      <th>Store</th>\n",
              "      <th>DayOfWeek</th>\n",
              "      <th>Date</th>\n",
              "      <th>Sales</th>\n",
              "      <th>Customers</th>\n",
              "      <th>Open</th>\n",
              "      <th>Promo</th>\n",
              "      <th>StateHoliday</th>\n",
              "      <th>SchoolHoliday</th>\n",
              "      <th>StoreType</th>\n",
              "      <th>...</th>\n",
              "      <th>PromoInterval</th>\n",
              "      <th>Year</th>\n",
              "      <th>Month</th>\n",
              "      <th>Week</th>\n",
              "      <th>Day</th>\n",
              "      <th>DoW</th>\n",
              "      <th>IsWeekend</th>\n",
              "      <th>CompMonths</th>\n",
              "      <th>Promo2Active</th>\n",
              "      <th>Sales_log</th>\n",
              "    </tr>\n",
              "  </thead>\n",
              "  <tbody>\n",
              "    <tr>\n",
              "      <th>0</th>\n",
              "      <td>1</td>\n",
              "      <td>5</td>\n",
              "      <td>2015-07-31</td>\n",
              "      <td>5263</td>\n",
              "      <td>555</td>\n",
              "      <td>1</td>\n",
              "      <td>1</td>\n",
              "      <td>None</td>\n",
              "      <td>1</td>\n",
              "      <td>c</td>\n",
              "      <td>...</td>\n",
              "      <td>NaN</td>\n",
              "      <td>2015</td>\n",
              "      <td>7</td>\n",
              "      <td>31</td>\n",
              "      <td>31</td>\n",
              "      <td>4</td>\n",
              "      <td>0</td>\n",
              "      <td>82</td>\n",
              "      <td>0</td>\n",
              "      <td>8.568646</td>\n",
              "    </tr>\n",
              "    <tr>\n",
              "      <th>1</th>\n",
              "      <td>2</td>\n",
              "      <td>5</td>\n",
              "      <td>2015-07-31</td>\n",
              "      <td>6064</td>\n",
              "      <td>625</td>\n",
              "      <td>1</td>\n",
              "      <td>1</td>\n",
              "      <td>None</td>\n",
              "      <td>1</td>\n",
              "      <td>a</td>\n",
              "      <td>...</td>\n",
              "      <td>Jan,Apr,Jul,Oct</td>\n",
              "      <td>2015</td>\n",
              "      <td>7</td>\n",
              "      <td>31</td>\n",
              "      <td>31</td>\n",
              "      <td>4</td>\n",
              "      <td>0</td>\n",
              "      <td>92</td>\n",
              "      <td>1</td>\n",
              "      <td>8.710290</td>\n",
              "    </tr>\n",
              "    <tr>\n",
              "      <th>2</th>\n",
              "      <td>3</td>\n",
              "      <td>5</td>\n",
              "      <td>2015-07-31</td>\n",
              "      <td>8314</td>\n",
              "      <td>821</td>\n",
              "      <td>1</td>\n",
              "      <td>1</td>\n",
              "      <td>None</td>\n",
              "      <td>1</td>\n",
              "      <td>a</td>\n",
              "      <td>...</td>\n",
              "      <td>Jan,Apr,Jul,Oct</td>\n",
              "      <td>2015</td>\n",
              "      <td>7</td>\n",
              "      <td>31</td>\n",
              "      <td>31</td>\n",
              "      <td>4</td>\n",
              "      <td>0</td>\n",
              "      <td>103</td>\n",
              "      <td>1</td>\n",
              "      <td>9.025816</td>\n",
              "    </tr>\n",
              "    <tr>\n",
              "      <th>3</th>\n",
              "      <td>4</td>\n",
              "      <td>5</td>\n",
              "      <td>2015-07-31</td>\n",
              "      <td>13995</td>\n",
              "      <td>1498</td>\n",
              "      <td>1</td>\n",
              "      <td>1</td>\n",
              "      <td>None</td>\n",
              "      <td>1</td>\n",
              "      <td>c</td>\n",
              "      <td>...</td>\n",
              "      <td>NaN</td>\n",
              "      <td>2015</td>\n",
              "      <td>7</td>\n",
              "      <td>31</td>\n",
              "      <td>31</td>\n",
              "      <td>4</td>\n",
              "      <td>0</td>\n",
              "      <td>70</td>\n",
              "      <td>0</td>\n",
              "      <td>9.546527</td>\n",
              "    </tr>\n",
              "    <tr>\n",
              "      <th>4</th>\n",
              "      <td>5</td>\n",
              "      <td>5</td>\n",
              "      <td>2015-07-31</td>\n",
              "      <td>4822</td>\n",
              "      <td>559</td>\n",
              "      <td>1</td>\n",
              "      <td>1</td>\n",
              "      <td>None</td>\n",
              "      <td>1</td>\n",
              "      <td>a</td>\n",
              "      <td>...</td>\n",
              "      <td>NaN</td>\n",
              "      <td>2015</td>\n",
              "      <td>7</td>\n",
              "      <td>31</td>\n",
              "      <td>31</td>\n",
              "      <td>4</td>\n",
              "      <td>0</td>\n",
              "      <td>3</td>\n",
              "      <td>0</td>\n",
              "      <td>8.481151</td>\n",
              "    </tr>\n",
              "  </tbody>\n",
              "</table>\n",
              "<p>5 rows × 27 columns</p>\n",
              "</div>\n",
              "    <div class=\"colab-df-buttons\">\n",
              "\n",
              "  <div class=\"colab-df-container\">\n",
              "    <button class=\"colab-df-convert\" onclick=\"convertToInteractive('df-b1cc5f0f-2495-41e2-9b00-13dcb91cc63d')\"\n",
              "            title=\"Convert this dataframe to an interactive table.\"\n",
              "            style=\"display:none;\">\n",
              "\n",
              "  <svg xmlns=\"http://www.w3.org/2000/svg\" height=\"24px\" viewBox=\"0 -960 960 960\">\n",
              "    <path d=\"M120-120v-720h720v720H120Zm60-500h600v-160H180v160Zm220 220h160v-160H400v160Zm0 220h160v-160H400v160ZM180-400h160v-160H180v160Zm440 0h160v-160H620v160ZM180-180h160v-160H180v160Zm440 0h160v-160H620v160Z\"/>\n",
              "  </svg>\n",
              "    </button>\n",
              "\n",
              "  <style>\n",
              "    .colab-df-container {\n",
              "      display:flex;\n",
              "      gap: 12px;\n",
              "    }\n",
              "\n",
              "    .colab-df-convert {\n",
              "      background-color: #E8F0FE;\n",
              "      border: none;\n",
              "      border-radius: 50%;\n",
              "      cursor: pointer;\n",
              "      display: none;\n",
              "      fill: #1967D2;\n",
              "      height: 32px;\n",
              "      padding: 0 0 0 0;\n",
              "      width: 32px;\n",
              "    }\n",
              "\n",
              "    .colab-df-convert:hover {\n",
              "      background-color: #E2EBFA;\n",
              "      box-shadow: 0px 1px 2px rgba(60, 64, 67, 0.3), 0px 1px 3px 1px rgba(60, 64, 67, 0.15);\n",
              "      fill: #174EA6;\n",
              "    }\n",
              "\n",
              "    .colab-df-buttons div {\n",
              "      margin-bottom: 4px;\n",
              "    }\n",
              "\n",
              "    [theme=dark] .colab-df-convert {\n",
              "      background-color: #3B4455;\n",
              "      fill: #D2E3FC;\n",
              "    }\n",
              "\n",
              "    [theme=dark] .colab-df-convert:hover {\n",
              "      background-color: #434B5C;\n",
              "      box-shadow: 0px 1px 3px 1px rgba(0, 0, 0, 0.15);\n",
              "      filter: drop-shadow(0px 1px 2px rgba(0, 0, 0, 0.3));\n",
              "      fill: #FFFFFF;\n",
              "    }\n",
              "  </style>\n",
              "\n",
              "    <script>\n",
              "      const buttonEl =\n",
              "        document.querySelector('#df-b1cc5f0f-2495-41e2-9b00-13dcb91cc63d button.colab-df-convert');\n",
              "      buttonEl.style.display =\n",
              "        google.colab.kernel.accessAllowed ? 'block' : 'none';\n",
              "\n",
              "      async function convertToInteractive(key) {\n",
              "        const element = document.querySelector('#df-b1cc5f0f-2495-41e2-9b00-13dcb91cc63d');\n",
              "        const dataTable =\n",
              "          await google.colab.kernel.invokeFunction('convertToInteractive',\n",
              "                                                    [key], {});\n",
              "        if (!dataTable) return;\n",
              "\n",
              "        const docLinkHtml = 'Like what you see? Visit the ' +\n",
              "          '<a target=\"_blank\" href=https://colab.research.google.com/notebooks/data_table.ipynb>data table notebook</a>'\n",
              "          + ' to learn more about interactive tables.';\n",
              "        element.innerHTML = '';\n",
              "        dataTable['output_type'] = 'display_data';\n",
              "        await google.colab.output.renderOutput(dataTable, element);\n",
              "        const docLink = document.createElement('div');\n",
              "        docLink.innerHTML = docLinkHtml;\n",
              "        element.appendChild(docLink);\n",
              "      }\n",
              "    </script>\n",
              "  </div>\n",
              "\n",
              "\n",
              "    <div id=\"df-b8c18aa9-2652-4b02-a50b-1c1dfd64df9a\">\n",
              "      <button class=\"colab-df-quickchart\" onclick=\"quickchart('df-b8c18aa9-2652-4b02-a50b-1c1dfd64df9a')\"\n",
              "                title=\"Suggest charts\"\n",
              "                style=\"display:none;\">\n",
              "\n",
              "<svg xmlns=\"http://www.w3.org/2000/svg\" height=\"24px\"viewBox=\"0 0 24 24\"\n",
              "     width=\"24px\">\n",
              "    <g>\n",
              "        <path d=\"M19 3H5c-1.1 0-2 .9-2 2v14c0 1.1.9 2 2 2h14c1.1 0 2-.9 2-2V5c0-1.1-.9-2-2-2zM9 17H7v-7h2v7zm4 0h-2V7h2v10zm4 0h-2v-4h2v4z\"/>\n",
              "    </g>\n",
              "</svg>\n",
              "      </button>\n",
              "\n",
              "<style>\n",
              "  .colab-df-quickchart {\n",
              "      --bg-color: #E8F0FE;\n",
              "      --fill-color: #1967D2;\n",
              "      --hover-bg-color: #E2EBFA;\n",
              "      --hover-fill-color: #174EA6;\n",
              "      --disabled-fill-color: #AAA;\n",
              "      --disabled-bg-color: #DDD;\n",
              "  }\n",
              "\n",
              "  [theme=dark] .colab-df-quickchart {\n",
              "      --bg-color: #3B4455;\n",
              "      --fill-color: #D2E3FC;\n",
              "      --hover-bg-color: #434B5C;\n",
              "      --hover-fill-color: #FFFFFF;\n",
              "      --disabled-bg-color: #3B4455;\n",
              "      --disabled-fill-color: #666;\n",
              "  }\n",
              "\n",
              "  .colab-df-quickchart {\n",
              "    background-color: var(--bg-color);\n",
              "    border: none;\n",
              "    border-radius: 50%;\n",
              "    cursor: pointer;\n",
              "    display: none;\n",
              "    fill: var(--fill-color);\n",
              "    height: 32px;\n",
              "    padding: 0;\n",
              "    width: 32px;\n",
              "  }\n",
              "\n",
              "  .colab-df-quickchart:hover {\n",
              "    background-color: var(--hover-bg-color);\n",
              "    box-shadow: 0 1px 2px rgba(60, 64, 67, 0.3), 0 1px 3px 1px rgba(60, 64, 67, 0.15);\n",
              "    fill: var(--button-hover-fill-color);\n",
              "  }\n",
              "\n",
              "  .colab-df-quickchart-complete:disabled,\n",
              "  .colab-df-quickchart-complete:disabled:hover {\n",
              "    background-color: var(--disabled-bg-color);\n",
              "    fill: var(--disabled-fill-color);\n",
              "    box-shadow: none;\n",
              "  }\n",
              "\n",
              "  .colab-df-spinner {\n",
              "    border: 2px solid var(--fill-color);\n",
              "    border-color: transparent;\n",
              "    border-bottom-color: var(--fill-color);\n",
              "    animation:\n",
              "      spin 1s steps(1) infinite;\n",
              "  }\n",
              "\n",
              "  @keyframes spin {\n",
              "    0% {\n",
              "      border-color: transparent;\n",
              "      border-bottom-color: var(--fill-color);\n",
              "      border-left-color: var(--fill-color);\n",
              "    }\n",
              "    20% {\n",
              "      border-color: transparent;\n",
              "      border-left-color: var(--fill-color);\n",
              "      border-top-color: var(--fill-color);\n",
              "    }\n",
              "    30% {\n",
              "      border-color: transparent;\n",
              "      border-left-color: var(--fill-color);\n",
              "      border-top-color: var(--fill-color);\n",
              "      border-right-color: var(--fill-color);\n",
              "    }\n",
              "    40% {\n",
              "      border-color: transparent;\n",
              "      border-right-color: var(--fill-color);\n",
              "      border-top-color: var(--fill-color);\n",
              "    }\n",
              "    60% {\n",
              "      border-color: transparent;\n",
              "      border-right-color: var(--fill-color);\n",
              "    }\n",
              "    80% {\n",
              "      border-color: transparent;\n",
              "      border-right-color: var(--fill-color);\n",
              "      border-bottom-color: var(--fill-color);\n",
              "    }\n",
              "    90% {\n",
              "      border-color: transparent;\n",
              "      border-bottom-color: var(--fill-color);\n",
              "    }\n",
              "  }\n",
              "</style>\n",
              "\n",
              "      <script>\n",
              "        async function quickchart(key) {\n",
              "          const quickchartButtonEl =\n",
              "            document.querySelector('#' + key + ' button');\n",
              "          quickchartButtonEl.disabled = true;  // To prevent multiple clicks.\n",
              "          quickchartButtonEl.classList.add('colab-df-spinner');\n",
              "          try {\n",
              "            const charts = await google.colab.kernel.invokeFunction(\n",
              "                'suggestCharts', [key], {});\n",
              "          } catch (error) {\n",
              "            console.error('Error during call to suggestCharts:', error);\n",
              "          }\n",
              "          quickchartButtonEl.classList.remove('colab-df-spinner');\n",
              "          quickchartButtonEl.classList.add('colab-df-quickchart-complete');\n",
              "        }\n",
              "        (() => {\n",
              "          let quickchartButtonEl =\n",
              "            document.querySelector('#df-b8c18aa9-2652-4b02-a50b-1c1dfd64df9a button');\n",
              "          quickchartButtonEl.style.display =\n",
              "            google.colab.kernel.accessAllowed ? 'block' : 'none';\n",
              "        })();\n",
              "      </script>\n",
              "    </div>\n",
              "\n",
              "    </div>\n",
              "  </div>\n"
            ],
            "application/vnd.google.colaboratory.intrinsic+json": {
              "type": "dataframe",
              "variable_name": "train_fe"
            }
          },
          "metadata": {},
          "execution_count": 36
        }
      ]
    },
    {
      "cell_type": "code",
      "source": [
        "X.head()"
      ],
      "metadata": {
        "id": "FRof_PfkA5He",
        "outputId": "115e7c6c-cd30-4a40-d8dd-ec0abd731c2d",
        "colab": {
          "base_uri": "https://localhost:8080/",
          "height": 226
        }
      },
      "execution_count": null,
      "outputs": [
        {
          "output_type": "execute_result",
          "data": {
            "text/plain": [
              "   Store StoreType Assortment StateHoliday  Promo  Promo2  Promo2Active  \\\n",
              "0      1         c          a         None      1       0             0   \n",
              "1      2         a          a         None      1       1             1   \n",
              "2      3         a          a         None      1       1             1   \n",
              "3      4         c          c         None      1       0             0   \n",
              "4      5         a          a         None      1       0             0   \n",
              "\n",
              "   SchoolHoliday  DayOfWeek  CompetitionDistance  CompMonths  Year  Month  \\\n",
              "0              1          5               1270.0          82  2015      7   \n",
              "1              1          5                570.0          92  2015      7   \n",
              "2              1          5              14130.0         103  2015      7   \n",
              "3              1          5                620.0          70  2015      7   \n",
              "4              1          5              29910.0           3  2015      7   \n",
              "\n",
              "   Week  Day  IsWeekend  \n",
              "0    31   31          0  \n",
              "1    31   31          0  \n",
              "2    31   31          0  \n",
              "3    31   31          0  \n",
              "4    31   31          0  "
            ],
            "text/html": [
              "\n",
              "  <div id=\"df-b996fa61-14bc-4a2f-a55f-77273e43fac8\" class=\"colab-df-container\">\n",
              "    <div>\n",
              "<style scoped>\n",
              "    .dataframe tbody tr th:only-of-type {\n",
              "        vertical-align: middle;\n",
              "    }\n",
              "\n",
              "    .dataframe tbody tr th {\n",
              "        vertical-align: top;\n",
              "    }\n",
              "\n",
              "    .dataframe thead th {\n",
              "        text-align: right;\n",
              "    }\n",
              "</style>\n",
              "<table border=\"1\" class=\"dataframe\">\n",
              "  <thead>\n",
              "    <tr style=\"text-align: right;\">\n",
              "      <th></th>\n",
              "      <th>Store</th>\n",
              "      <th>StoreType</th>\n",
              "      <th>Assortment</th>\n",
              "      <th>StateHoliday</th>\n",
              "      <th>Promo</th>\n",
              "      <th>Promo2</th>\n",
              "      <th>Promo2Active</th>\n",
              "      <th>SchoolHoliday</th>\n",
              "      <th>DayOfWeek</th>\n",
              "      <th>CompetitionDistance</th>\n",
              "      <th>CompMonths</th>\n",
              "      <th>Year</th>\n",
              "      <th>Month</th>\n",
              "      <th>Week</th>\n",
              "      <th>Day</th>\n",
              "      <th>IsWeekend</th>\n",
              "    </tr>\n",
              "  </thead>\n",
              "  <tbody>\n",
              "    <tr>\n",
              "      <th>0</th>\n",
              "      <td>1</td>\n",
              "      <td>c</td>\n",
              "      <td>a</td>\n",
              "      <td>None</td>\n",
              "      <td>1</td>\n",
              "      <td>0</td>\n",
              "      <td>0</td>\n",
              "      <td>1</td>\n",
              "      <td>5</td>\n",
              "      <td>1270.0</td>\n",
              "      <td>82</td>\n",
              "      <td>2015</td>\n",
              "      <td>7</td>\n",
              "      <td>31</td>\n",
              "      <td>31</td>\n",
              "      <td>0</td>\n",
              "    </tr>\n",
              "    <tr>\n",
              "      <th>1</th>\n",
              "      <td>2</td>\n",
              "      <td>a</td>\n",
              "      <td>a</td>\n",
              "      <td>None</td>\n",
              "      <td>1</td>\n",
              "      <td>1</td>\n",
              "      <td>1</td>\n",
              "      <td>1</td>\n",
              "      <td>5</td>\n",
              "      <td>570.0</td>\n",
              "      <td>92</td>\n",
              "      <td>2015</td>\n",
              "      <td>7</td>\n",
              "      <td>31</td>\n",
              "      <td>31</td>\n",
              "      <td>0</td>\n",
              "    </tr>\n",
              "    <tr>\n",
              "      <th>2</th>\n",
              "      <td>3</td>\n",
              "      <td>a</td>\n",
              "      <td>a</td>\n",
              "      <td>None</td>\n",
              "      <td>1</td>\n",
              "      <td>1</td>\n",
              "      <td>1</td>\n",
              "      <td>1</td>\n",
              "      <td>5</td>\n",
              "      <td>14130.0</td>\n",
              "      <td>103</td>\n",
              "      <td>2015</td>\n",
              "      <td>7</td>\n",
              "      <td>31</td>\n",
              "      <td>31</td>\n",
              "      <td>0</td>\n",
              "    </tr>\n",
              "    <tr>\n",
              "      <th>3</th>\n",
              "      <td>4</td>\n",
              "      <td>c</td>\n",
              "      <td>c</td>\n",
              "      <td>None</td>\n",
              "      <td>1</td>\n",
              "      <td>0</td>\n",
              "      <td>0</td>\n",
              "      <td>1</td>\n",
              "      <td>5</td>\n",
              "      <td>620.0</td>\n",
              "      <td>70</td>\n",
              "      <td>2015</td>\n",
              "      <td>7</td>\n",
              "      <td>31</td>\n",
              "      <td>31</td>\n",
              "      <td>0</td>\n",
              "    </tr>\n",
              "    <tr>\n",
              "      <th>4</th>\n",
              "      <td>5</td>\n",
              "      <td>a</td>\n",
              "      <td>a</td>\n",
              "      <td>None</td>\n",
              "      <td>1</td>\n",
              "      <td>0</td>\n",
              "      <td>0</td>\n",
              "      <td>1</td>\n",
              "      <td>5</td>\n",
              "      <td>29910.0</td>\n",
              "      <td>3</td>\n",
              "      <td>2015</td>\n",
              "      <td>7</td>\n",
              "      <td>31</td>\n",
              "      <td>31</td>\n",
              "      <td>0</td>\n",
              "    </tr>\n",
              "  </tbody>\n",
              "</table>\n",
              "</div>\n",
              "    <div class=\"colab-df-buttons\">\n",
              "\n",
              "  <div class=\"colab-df-container\">\n",
              "    <button class=\"colab-df-convert\" onclick=\"convertToInteractive('df-b996fa61-14bc-4a2f-a55f-77273e43fac8')\"\n",
              "            title=\"Convert this dataframe to an interactive table.\"\n",
              "            style=\"display:none;\">\n",
              "\n",
              "  <svg xmlns=\"http://www.w3.org/2000/svg\" height=\"24px\" viewBox=\"0 -960 960 960\">\n",
              "    <path d=\"M120-120v-720h720v720H120Zm60-500h600v-160H180v160Zm220 220h160v-160H400v160Zm0 220h160v-160H400v160ZM180-400h160v-160H180v160Zm440 0h160v-160H620v160ZM180-180h160v-160H180v160Zm440 0h160v-160H620v160Z\"/>\n",
              "  </svg>\n",
              "    </button>\n",
              "\n",
              "  <style>\n",
              "    .colab-df-container {\n",
              "      display:flex;\n",
              "      gap: 12px;\n",
              "    }\n",
              "\n",
              "    .colab-df-convert {\n",
              "      background-color: #E8F0FE;\n",
              "      border: none;\n",
              "      border-radius: 50%;\n",
              "      cursor: pointer;\n",
              "      display: none;\n",
              "      fill: #1967D2;\n",
              "      height: 32px;\n",
              "      padding: 0 0 0 0;\n",
              "      width: 32px;\n",
              "    }\n",
              "\n",
              "    .colab-df-convert:hover {\n",
              "      background-color: #E2EBFA;\n",
              "      box-shadow: 0px 1px 2px rgba(60, 64, 67, 0.3), 0px 1px 3px 1px rgba(60, 64, 67, 0.15);\n",
              "      fill: #174EA6;\n",
              "    }\n",
              "\n",
              "    .colab-df-buttons div {\n",
              "      margin-bottom: 4px;\n",
              "    }\n",
              "\n",
              "    [theme=dark] .colab-df-convert {\n",
              "      background-color: #3B4455;\n",
              "      fill: #D2E3FC;\n",
              "    }\n",
              "\n",
              "    [theme=dark] .colab-df-convert:hover {\n",
              "      background-color: #434B5C;\n",
              "      box-shadow: 0px 1px 3px 1px rgba(0, 0, 0, 0.15);\n",
              "      filter: drop-shadow(0px 1px 2px rgba(0, 0, 0, 0.3));\n",
              "      fill: #FFFFFF;\n",
              "    }\n",
              "  </style>\n",
              "\n",
              "    <script>\n",
              "      const buttonEl =\n",
              "        document.querySelector('#df-b996fa61-14bc-4a2f-a55f-77273e43fac8 button.colab-df-convert');\n",
              "      buttonEl.style.display =\n",
              "        google.colab.kernel.accessAllowed ? 'block' : 'none';\n",
              "\n",
              "      async function convertToInteractive(key) {\n",
              "        const element = document.querySelector('#df-b996fa61-14bc-4a2f-a55f-77273e43fac8');\n",
              "        const dataTable =\n",
              "          await google.colab.kernel.invokeFunction('convertToInteractive',\n",
              "                                                    [key], {});\n",
              "        if (!dataTable) return;\n",
              "\n",
              "        const docLinkHtml = 'Like what you see? Visit the ' +\n",
              "          '<a target=\"_blank\" href=https://colab.research.google.com/notebooks/data_table.ipynb>data table notebook</a>'\n",
              "          + ' to learn more about interactive tables.';\n",
              "        element.innerHTML = '';\n",
              "        dataTable['output_type'] = 'display_data';\n",
              "        await google.colab.output.renderOutput(dataTable, element);\n",
              "        const docLink = document.createElement('div');\n",
              "        docLink.innerHTML = docLinkHtml;\n",
              "        element.appendChild(docLink);\n",
              "      }\n",
              "    </script>\n",
              "  </div>\n",
              "\n",
              "\n",
              "    <div id=\"df-10cb39a2-e68f-4209-a23a-4548a4dcfd80\">\n",
              "      <button class=\"colab-df-quickchart\" onclick=\"quickchart('df-10cb39a2-e68f-4209-a23a-4548a4dcfd80')\"\n",
              "                title=\"Suggest charts\"\n",
              "                style=\"display:none;\">\n",
              "\n",
              "<svg xmlns=\"http://www.w3.org/2000/svg\" height=\"24px\"viewBox=\"0 0 24 24\"\n",
              "     width=\"24px\">\n",
              "    <g>\n",
              "        <path d=\"M19 3H5c-1.1 0-2 .9-2 2v14c0 1.1.9 2 2 2h14c1.1 0 2-.9 2-2V5c0-1.1-.9-2-2-2zM9 17H7v-7h2v7zm4 0h-2V7h2v10zm4 0h-2v-4h2v4z\"/>\n",
              "    </g>\n",
              "</svg>\n",
              "      </button>\n",
              "\n",
              "<style>\n",
              "  .colab-df-quickchart {\n",
              "      --bg-color: #E8F0FE;\n",
              "      --fill-color: #1967D2;\n",
              "      --hover-bg-color: #E2EBFA;\n",
              "      --hover-fill-color: #174EA6;\n",
              "      --disabled-fill-color: #AAA;\n",
              "      --disabled-bg-color: #DDD;\n",
              "  }\n",
              "\n",
              "  [theme=dark] .colab-df-quickchart {\n",
              "      --bg-color: #3B4455;\n",
              "      --fill-color: #D2E3FC;\n",
              "      --hover-bg-color: #434B5C;\n",
              "      --hover-fill-color: #FFFFFF;\n",
              "      --disabled-bg-color: #3B4455;\n",
              "      --disabled-fill-color: #666;\n",
              "  }\n",
              "\n",
              "  .colab-df-quickchart {\n",
              "    background-color: var(--bg-color);\n",
              "    border: none;\n",
              "    border-radius: 50%;\n",
              "    cursor: pointer;\n",
              "    display: none;\n",
              "    fill: var(--fill-color);\n",
              "    height: 32px;\n",
              "    padding: 0;\n",
              "    width: 32px;\n",
              "  }\n",
              "\n",
              "  .colab-df-quickchart:hover {\n",
              "    background-color: var(--hover-bg-color);\n",
              "    box-shadow: 0 1px 2px rgba(60, 64, 67, 0.3), 0 1px 3px 1px rgba(60, 64, 67, 0.15);\n",
              "    fill: var(--button-hover-fill-color);\n",
              "  }\n",
              "\n",
              "  .colab-df-quickchart-complete:disabled,\n",
              "  .colab-df-quickchart-complete:disabled:hover {\n",
              "    background-color: var(--disabled-bg-color);\n",
              "    fill: var(--disabled-fill-color);\n",
              "    box-shadow: none;\n",
              "  }\n",
              "\n",
              "  .colab-df-spinner {\n",
              "    border: 2px solid var(--fill-color);\n",
              "    border-color: transparent;\n",
              "    border-bottom-color: var(--fill-color);\n",
              "    animation:\n",
              "      spin 1s steps(1) infinite;\n",
              "  }\n",
              "\n",
              "  @keyframes spin {\n",
              "    0% {\n",
              "      border-color: transparent;\n",
              "      border-bottom-color: var(--fill-color);\n",
              "      border-left-color: var(--fill-color);\n",
              "    }\n",
              "    20% {\n",
              "      border-color: transparent;\n",
              "      border-left-color: var(--fill-color);\n",
              "      border-top-color: var(--fill-color);\n",
              "    }\n",
              "    30% {\n",
              "      border-color: transparent;\n",
              "      border-left-color: var(--fill-color);\n",
              "      border-top-color: var(--fill-color);\n",
              "      border-right-color: var(--fill-color);\n",
              "    }\n",
              "    40% {\n",
              "      border-color: transparent;\n",
              "      border-right-color: var(--fill-color);\n",
              "      border-top-color: var(--fill-color);\n",
              "    }\n",
              "    60% {\n",
              "      border-color: transparent;\n",
              "      border-right-color: var(--fill-color);\n",
              "    }\n",
              "    80% {\n",
              "      border-color: transparent;\n",
              "      border-right-color: var(--fill-color);\n",
              "      border-bottom-color: var(--fill-color);\n",
              "    }\n",
              "    90% {\n",
              "      border-color: transparent;\n",
              "      border-bottom-color: var(--fill-color);\n",
              "    }\n",
              "  }\n",
              "</style>\n",
              "\n",
              "      <script>\n",
              "        async function quickchart(key) {\n",
              "          const quickchartButtonEl =\n",
              "            document.querySelector('#' + key + ' button');\n",
              "          quickchartButtonEl.disabled = true;  // To prevent multiple clicks.\n",
              "          quickchartButtonEl.classList.add('colab-df-spinner');\n",
              "          try {\n",
              "            const charts = await google.colab.kernel.invokeFunction(\n",
              "                'suggestCharts', [key], {});\n",
              "          } catch (error) {\n",
              "            console.error('Error during call to suggestCharts:', error);\n",
              "          }\n",
              "          quickchartButtonEl.classList.remove('colab-df-spinner');\n",
              "          quickchartButtonEl.classList.add('colab-df-quickchart-complete');\n",
              "        }\n",
              "        (() => {\n",
              "          let quickchartButtonEl =\n",
              "            document.querySelector('#df-10cb39a2-e68f-4209-a23a-4548a4dcfd80 button');\n",
              "          quickchartButtonEl.style.display =\n",
              "            google.colab.kernel.accessAllowed ? 'block' : 'none';\n",
              "        })();\n",
              "      </script>\n",
              "    </div>\n",
              "\n",
              "    </div>\n",
              "  </div>\n"
            ],
            "application/vnd.google.colaboratory.intrinsic+json": {
              "type": "dataframe",
              "variable_name": "X"
            }
          },
          "metadata": {},
          "execution_count": 37
        }
      ]
    },
    {
      "cell_type": "markdown",
      "source": [
        "## Sample\n",
        "\n",
        "Time-aware split (hold out the last N days).\n",
        "\n",
        "* Splits chronologically at a recent cutoff (HOLDOUT_DAYS).\n",
        "\n",
        "* Prints the date ranges of train vs validation."
      ],
      "metadata": {
        "id": "VtMys6mG2SlA"
      }
    },
    {
      "cell_type": "code",
      "source": [
        "HOLDOUT_DAYS = 42\n",
        "\n",
        "cutoff = train_fe[\"Date\"].max() - pd.Timedelta(days=HOLDOUT_DAYS)\n",
        "train_mask = train_fe[\"Date\"] <= cutoff\n",
        "valid_mask = train_fe[\"Date\"] >  cutoff\n",
        "\n",
        "X_tr, X_va = X[train_mask], X[valid_mask]\n",
        "y_tr, y_va = y[train_mask], y[valid_mask]\n",
        "\n",
        "print(\"Train range:\", train_fe.loc[train_mask,\"Date\"].min(), \"→\", train_fe.loc[train_mask,\"Date\"].max())\n",
        "print(\"Valid range:\", train_fe.loc[valid_mask,\"Date\"].min(), \"→\", train_fe.loc[valid_mask,\"Date\"].max())\n",
        "print(\"Sizes:\", X_tr.shape, X_va.shape)\n",
        "\n",
        "expect(train_fe.loc[train_mask,\"Date\"].max() < train_fe.loc[valid_mask,\"Date\"].min(), \"Temporal leak: ranges overlap\")\n",
        "ok(\"Time split ready\")\n"
      ],
      "metadata": {
        "colab": {
          "base_uri": "https://localhost:8080/"
        },
        "id": "VN4Y3RFRCPHi",
        "outputId": "f2587923-0629-40ed-acb2-1697aa08c71d"
      },
      "execution_count": null,
      "outputs": [
        {
          "output_type": "stream",
          "name": "stdout",
          "text": [
            "Train range: 2013-01-01 00:00:00 → 2015-06-19 00:00:00\n",
            "Valid range: 2015-06-20 00:00:00 → 2015-07-31 00:00:00\n",
            "Sizes: (804110, 16) (40282, 16)\n",
            "✅ Time split ready\n"
          ]
        }
      ]
    },
    {
      "cell_type": "markdown",
      "source": [
        "## Model\n",
        "\n",
        "Preprocessing + model (LGBM or RF)."
      ],
      "metadata": {
        "id": "0dBhars32gvL"
      }
    },
    {
      "cell_type": "markdown",
      "source": [
        "What it does\n",
        "\n",
        "* ColumnTransformer:\n",
        "  * One-hot encodes categoricals (use drop=\"if_binary\" if  sklearn supports it to avoid Promo_0 & Promo_1 both appearing).\n",
        "  * Passes numeric columns.\n",
        "\n",
        "* Trains LightGBM (or RF) on Sales_log.\n",
        "* Predicts on validation, exponentiates back to real Sales.\n",
        "* Prints MAE, RMSE, RMSPE."
      ],
      "metadata": {
        "id": "Yx7LeLX6_Kmy"
      }
    },
    {
      "cell_type": "code",
      "source": [
        "# One-hot for categoricals; passthrough numerics\n",
        "pre = ColumnTransformer([\n",
        "    (\"cat\", OneHotEncoder(handle_unknown=\"ignore\", drop=\"if_binary\", sparse_output=True), CATS),\n",
        "    (\"num\", \"passthrough\", NUMS),\n",
        "])\n",
        "\n",
        "# Choose model\n",
        "if HAS_LGBM:\n",
        "    model = LGBMRegressor(\n",
        "        n_estimators=1200, learning_rate=0.05, subsample=0.8, colsample_bytree=0.8,\n",
        "        max_depth=-1, random_state=SEED, n_jobs=-1\n",
        "    )\n",
        "else:\n",
        "    model = RandomForestRegressor(\n",
        "        n_estimators=400, max_depth=None, random_state=SEED, n_jobs=-1\n",
        "    )\n",
        "\n",
        "pipe = Pipeline([(\"pre\", pre), (\"model\", model)])\n",
        "pipe.fit(X_tr, y_tr)\n",
        "\n",
        "# Predict log target, then back-transform\n",
        "pred_va_log = pipe.predict(X_va)\n",
        "pred_va = np.expm1(pred_va_log)\n",
        "y_va_true = np.expm1(y_va)\n",
        "\n",
        "# Metrics\n",
        "mae  = mean_absolute_error(y_va_true, pred_va)\n",
        "rmse = np.sqrt(mean_squared_error(y_va_true, pred_va))\n",
        "def rmspe(y_true, y_pred):\n",
        "    # Root Mean Squared Percentage Error (ignore zero sales just in case)\n",
        "    mask = y_true > 0\n",
        "    return math.sqrt(np.mean(np.square((y_true[mask] - y_pred[mask]) / y_true[mask])))\n",
        "\n",
        "rmspe_val = rmspe(y_va_true.values, pred_va)\n",
        "\n",
        "print(f\"Model: {'LightGBM' if HAS_LGBM else 'RandomForest'}\")\n",
        "print(f\"MAE={mae:,.2f}  RMSE={rmse:,.2f}  RMSPE={rmspe_val:.4f}\")\n",
        "ok(\"Model trained & validated\")\n"
      ],
      "metadata": {
        "colab": {
          "base_uri": "https://localhost:8080/"
        },
        "id": "6NfhFwHoCRVL",
        "outputId": "7471e710-af13-4785-c658-b37a48433f55"
      },
      "execution_count": null,
      "outputs": [
        {
          "output_type": "stream",
          "name": "stdout",
          "text": [
            "[LightGBM] [Info] Auto-choosing row-wise multi-threading, the overhead of testing was 0.068251 seconds.\n",
            "You can set `force_row_wise=true` to remove the overhead.\n",
            "And if memory is not enough, you can set `force_col_wise=true`.\n",
            "[LightGBM] [Info] Total Bins 2887\n",
            "[LightGBM] [Info] Number of data points in the train set: 804110, number of used features: 1144\n",
            "[LightGBM] [Info] Start training from score 8.756806\n",
            "Model: LightGBM\n",
            "MAE=801.79  RMSE=1,130.31  RMSPE=0.1715\n",
            "✅ Model trained & validated\n"
          ]
        }
      ]
    },
    {
      "cell_type": "markdown",
      "source": [
        "average miss ≈ 800; relative error ≈ 17%"
      ],
      "metadata": {
        "id": "qSPqgfBG_heo"
      }
    },
    {
      "cell_type": "markdown",
      "source": [
        "## Assess\n",
        "\n",
        "Quick residual check & feature importance."
      ],
      "metadata": {
        "id": "nXUw7ez_2sup"
      }
    },
    {
      "cell_type": "code",
      "source": [
        "resid = y_va_true - pred_va\n",
        "plt.scatter(pred_va, resid, s=6, alpha=0.4)\n",
        "plt.axhline(0, ls=\"--\")\n",
        "plt.title(\"Residuals vs Prediction (validation)\")\n",
        "plt.xlabel(\"Predicted Sales\"); plt.ylabel(\"Residual\"); plt.show()\n",
        "\n",
        "# Feature importance (best with LGBM after one-hot)\n",
        "if HAS_LGBM:\n",
        "    # Get feature names after ColumnTransformer + OneHotEncoder\n",
        "    ohe = pipe.named_steps[\"pre\"].named_transformers_[\"cat\"]\n",
        "    cat_feature_names = list(ohe.get_feature_names_out(CATS))\n",
        "    feature_names = cat_feature_names + NUMS\n",
        "    importances = pipe.named_steps[\"model\"].feature_importances_\n",
        "    imp = (pd.DataFrame({\"feature\": feature_names, \"importance\": importances})\n",
        "             .sort_values(\"importance\", ascending=False).head(20))\n",
        "    ax = imp.plot(kind=\"barh\", x=\"feature\", y=\"importance\", figsize=(8,6), title=\"Top feature importances\")\n",
        "    plt.gca().invert_yaxis(); plt.tight_layout(); plt.show()\n",
        "\n",
        "ok(\"Assessment visuals done\")\n"
      ],
      "metadata": {
        "colab": {
          "base_uri": "https://localhost:8080/",
          "height": 1000
        },
        "id": "LADxkhF8xO8Y",
        "outputId": "feb3c2ed-a2f8-48fa-b5f3-d5ab07624f46"
      },
      "execution_count": null,
      "outputs": [
        {
          "output_type": "display_data",
          "data": {
            "text/plain": [
              "<Figure size 640x480 with 1 Axes>"
            ],
            "image/png": "[encoded data removed]"
          },
          "metadata": {}
        },
        {
          "output_type": "display_data",
          "data": {
            "text/plain": [
              "<Figure size 800x600 with 1 Axes>"
            ],
            "image/png": "[encoded data removed]"
          },
          "metadata": {}
        },
        {
          "output_type": "stream",
          "name": "stdout",
          "text": [
            "✅ Assessment visuals done\n"
          ]
        }
      ]
    },
    {
      "cell_type": "markdown",
      "source": [
        "## Deploy\n",
        "\n",
        "Fit on all train and build submission.csv."
      ],
      "metadata": {
        "id": "46bv5_D525zU"
      }
    },
    {
      "cell_type": "code",
      "source": [
        "# Refit on all available training rows\n",
        "pipe.fit(X, y)\n",
        "\n",
        "# Predict test and back-transform\n",
        "test_pred_log = pipe.predict(X_test_final)\n",
        "test_pred = np.expm1(test_pred_log).clip(min=0)\n",
        "\n",
        "sub = pd.DataFrame({\"Id\": test_fe[\"Id\"].values, \"Sales\": test_pred})\n",
        "sub.to_csv(\"submission.csv\", index=False)\n",
        "\n",
        "print(sub.head())\n",
        "print(\"Saved:\", os.path.abspath(\"submission.csv\"))\n",
        "expect(set(sub.columns)=={\"Id\",\"Sales\"}, \"Submission format incorrect\")\n",
        "ok(\"submission.csv ready\")"
      ],
      "metadata": {
        "colab": {
          "base_uri": "https://localhost:8080/"
        },
        "id": "Q9KBM8nDxcMD",
        "outputId": "b8fa5028-cb7c-4599-cee9-457a93df76ce"
      },
      "execution_count": null,
      "outputs": [
        {
          "output_type": "stream",
          "name": "stdout",
          "text": [
            "[LightGBM] [Info] Auto-choosing row-wise multi-threading, the overhead of testing was 0.071524 seconds.\n",
            "You can set `force_row_wise=true` to remove the overhead.\n",
            "And if memory is not enough, you can set `force_col_wise=true`.\n",
            "[LightGBM] [Info] Total Bins 2887\n",
            "[LightGBM] [Info] Number of data points in the train set: 844392, number of used features: 1144\n",
            "[LightGBM] [Info] Start training from score 8.757177\n",
            "   Id        Sales\n",
            "0   1  5053.610176\n",
            "1   2  7544.389821\n",
            "2   3  9321.302531\n",
            "3   4  6248.690905\n",
            "4   5  7353.544538\n",
            "Saved: /content/submission.csv\n",
            "✅ submission.csv ready\n"
          ]
        }
      ]
    }
  ]
}